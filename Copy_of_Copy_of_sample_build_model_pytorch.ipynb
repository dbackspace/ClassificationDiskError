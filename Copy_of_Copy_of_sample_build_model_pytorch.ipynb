{
  "nbformat": 4,
  "nbformat_minor": 0,
  "metadata": {
    "colab": {
      "name": "Copy of Copy of sample_build_model_pytorch.ipynb",
      "provenance": [],
      "collapsed_sections": []
    },
    "kernelspec": {
      "name": "python3",
      "display_name": "Python 3"
    },
    "accelerator": "GPU",
    "widgets": {
      "application/vnd.jupyter.widget-state+json": {
        "1e29a9a7e65c4c7fbd627bc4f0c8775a": {
          "model_module": "@jupyter-widgets/controls",
          "model_name": "HBoxModel",
          "state": {
            "_view_name": "HBoxView",
            "_dom_classes": [],
            "_model_name": "HBoxModel",
            "_view_module": "@jupyter-widgets/controls",
            "_model_module_version": "1.5.0",
            "_view_count": null,
            "_view_module_version": "1.5.0",
            "box_style": "",
            "layout": "IPY_MODEL_c4dcbe66de83421f95c448eb2386b864",
            "_model_module": "@jupyter-widgets/controls",
            "children": [
              "IPY_MODEL_059eab72644a42d89ab033e9337fa72d",
              "IPY_MODEL_b75a9859f1364335aed4ae297a8744c4"
            ]
          }
        },
        "c4dcbe66de83421f95c448eb2386b864": {
          "model_module": "@jupyter-widgets/base",
          "model_name": "LayoutModel",
          "state": {
            "_view_name": "LayoutView",
            "grid_template_rows": null,
            "right": null,
            "justify_content": null,
            "_view_module": "@jupyter-widgets/base",
            "overflow": null,
            "_model_module_version": "1.2.0",
            "_view_count": null,
            "flex_flow": null,
            "width": null,
            "min_width": null,
            "border": null,
            "align_items": null,
            "bottom": null,
            "_model_module": "@jupyter-widgets/base",
            "top": null,
            "grid_column": null,
            "overflow_y": null,
            "overflow_x": null,
            "grid_auto_flow": null,
            "grid_area": null,
            "grid_template_columns": null,
            "flex": null,
            "_model_name": "LayoutModel",
            "justify_items": null,
            "grid_row": null,
            "max_height": null,
            "align_content": null,
            "visibility": null,
            "align_self": null,
            "height": null,
            "min_height": null,
            "padding": null,
            "grid_auto_rows": null,
            "grid_gap": null,
            "max_width": null,
            "order": null,
            "_view_module_version": "1.2.0",
            "grid_template_areas": null,
            "object_position": null,
            "object_fit": null,
            "grid_auto_columns": null,
            "margin": null,
            "display": null,
            "left": null
          }
        },
        "059eab72644a42d89ab033e9337fa72d": {
          "model_module": "@jupyter-widgets/controls",
          "model_name": "FloatProgressModel",
          "state": {
            "_view_name": "ProgressView",
            "style": "IPY_MODEL_0caf4eb70500414b9d2227851f5d0d6b",
            "_dom_classes": [],
            "description": "100%",
            "_model_name": "FloatProgressModel",
            "bar_style": "success",
            "max": 46827520,
            "_view_module": "@jupyter-widgets/controls",
            "_model_module_version": "1.5.0",
            "value": 46827520,
            "_view_count": null,
            "_view_module_version": "1.5.0",
            "orientation": "horizontal",
            "min": 0,
            "description_tooltip": null,
            "_model_module": "@jupyter-widgets/controls",
            "layout": "IPY_MODEL_f088207047b749b9869a005fe9223e8b"
          }
        },
        "b75a9859f1364335aed4ae297a8744c4": {
          "model_module": "@jupyter-widgets/controls",
          "model_name": "HTMLModel",
          "state": {
            "_view_name": "HTMLView",
            "style": "IPY_MODEL_7b6eb38236d1461a8fd80f9974a5f28a",
            "_dom_classes": [],
            "description": "",
            "_model_name": "HTMLModel",
            "placeholder": "​",
            "_view_module": "@jupyter-widgets/controls",
            "_model_module_version": "1.5.0",
            "value": " 44.7M/44.7M [21:08&lt;00:00, 36.9kB/s]",
            "_view_count": null,
            "_view_module_version": "1.5.0",
            "description_tooltip": null,
            "_model_module": "@jupyter-widgets/controls",
            "layout": "IPY_MODEL_fd47070f3c344256ab2c9d4b34e48550"
          }
        },
        "0caf4eb70500414b9d2227851f5d0d6b": {
          "model_module": "@jupyter-widgets/controls",
          "model_name": "ProgressStyleModel",
          "state": {
            "_view_name": "StyleView",
            "_model_name": "ProgressStyleModel",
            "description_width": "initial",
            "_view_module": "@jupyter-widgets/base",
            "_model_module_version": "1.5.0",
            "_view_count": null,
            "_view_module_version": "1.2.0",
            "bar_color": null,
            "_model_module": "@jupyter-widgets/controls"
          }
        },
        "f088207047b749b9869a005fe9223e8b": {
          "model_module": "@jupyter-widgets/base",
          "model_name": "LayoutModel",
          "state": {
            "_view_name": "LayoutView",
            "grid_template_rows": null,
            "right": null,
            "justify_content": null,
            "_view_module": "@jupyter-widgets/base",
            "overflow": null,
            "_model_module_version": "1.2.0",
            "_view_count": null,
            "flex_flow": null,
            "width": null,
            "min_width": null,
            "border": null,
            "align_items": null,
            "bottom": null,
            "_model_module": "@jupyter-widgets/base",
            "top": null,
            "grid_column": null,
            "overflow_y": null,
            "overflow_x": null,
            "grid_auto_flow": null,
            "grid_area": null,
            "grid_template_columns": null,
            "flex": null,
            "_model_name": "LayoutModel",
            "justify_items": null,
            "grid_row": null,
            "max_height": null,
            "align_content": null,
            "visibility": null,
            "align_self": null,
            "height": null,
            "min_height": null,
            "padding": null,
            "grid_auto_rows": null,
            "grid_gap": null,
            "max_width": null,
            "order": null,
            "_view_module_version": "1.2.0",
            "grid_template_areas": null,
            "object_position": null,
            "object_fit": null,
            "grid_auto_columns": null,
            "margin": null,
            "display": null,
            "left": null
          }
        },
        "7b6eb38236d1461a8fd80f9974a5f28a": {
          "model_module": "@jupyter-widgets/controls",
          "model_name": "DescriptionStyleModel",
          "state": {
            "_view_name": "StyleView",
            "_model_name": "DescriptionStyleModel",
            "description_width": "",
            "_view_module": "@jupyter-widgets/base",
            "_model_module_version": "1.5.0",
            "_view_count": null,
            "_view_module_version": "1.2.0",
            "_model_module": "@jupyter-widgets/controls"
          }
        },
        "fd47070f3c344256ab2c9d4b34e48550": {
          "model_module": "@jupyter-widgets/base",
          "model_name": "LayoutModel",
          "state": {
            "_view_name": "LayoutView",
            "grid_template_rows": null,
            "right": null,
            "justify_content": null,
            "_view_module": "@jupyter-widgets/base",
            "overflow": null,
            "_model_module_version": "1.2.0",
            "_view_count": null,
            "flex_flow": null,
            "width": null,
            "min_width": null,
            "border": null,
            "align_items": null,
            "bottom": null,
            "_model_module": "@jupyter-widgets/base",
            "top": null,
            "grid_column": null,
            "overflow_y": null,
            "overflow_x": null,
            "grid_auto_flow": null,
            "grid_area": null,
            "grid_template_columns": null,
            "flex": null,
            "_model_name": "LayoutModel",
            "justify_items": null,
            "grid_row": null,
            "max_height": null,
            "align_content": null,
            "visibility": null,
            "align_self": null,
            "height": null,
            "min_height": null,
            "padding": null,
            "grid_auto_rows": null,
            "grid_gap": null,
            "max_width": null,
            "order": null,
            "_view_module_version": "1.2.0",
            "grid_template_areas": null,
            "object_position": null,
            "object_fit": null,
            "grid_auto_columns": null,
            "margin": null,
            "display": null,
            "left": null
          }
        }
      }
    }
  },
  "cells": [
    {
      "cell_type": "code",
      "metadata": {
        "id": "DS8Y5AWr8Ugt",
        "colab_type": "code",
        "outputId": "6cfab9c4-49ab-479a-f855-9f9bccb98b48",
        "colab": {
          "base_uri": "https://localhost:8080/",
          "height": 122
        }
      },
      "source": [
        "from google.colab import drive\n",
        "drive.mount('/content/drive')"
      ],
      "execution_count": 0,
      "outputs": [
        {
          "output_type": "stream",
          "text": [
            "Go to this URL in a browser: https://accounts.google.com/o/oauth2/auth?client_id=947318989803-6bn6qk8qdgf4n4g3pfee6491hc0brc4i.apps.googleusercontent.com&redirect_uri=urn%3aietf%3awg%3aoauth%3a2.0%3aoob&response_type=code&scope=email%20https%3a%2f%2fwww.googleapis.com%2fauth%2fdocs.test%20https%3a%2f%2fwww.googleapis.com%2fauth%2fdrive%20https%3a%2f%2fwww.googleapis.com%2fauth%2fdrive.photos.readonly%20https%3a%2f%2fwww.googleapis.com%2fauth%2fpeopleapi.readonly\n",
            "\n",
            "Enter your authorization code:\n",
            "··········\n",
            "Mounted at /content/drive\n"
          ],
          "name": "stdout"
        }
      ]
    },
    {
      "cell_type": "code",
      "metadata": {
        "id": "tuqGHyjd99FB",
        "colab_type": "code",
        "colab": {}
      },
      "source": [
        "import os\n",
        "\n",
        "os.chdir(\"/content/drive/My Drive/Colab Notebooks\")"
      ],
      "execution_count": 0,
      "outputs": []
    },
    {
      "cell_type": "code",
      "metadata": {
        "id": "IbaMak0L-H0N",
        "colab_type": "code",
        "outputId": "136252db-c7a3-42a3-92a8-1fca481c0b97",
        "colab": {
          "base_uri": "https://localhost:8080/",
          "height": 289
        }
      },
      "source": [
        "!ls"
      ],
      "execution_count": 0,
      "outputs": [
        {
          "output_type": "stream",
          "text": [
            " best_model.pth\n",
            "'Copy of Copy of sample_build_model_pytorch (1).ipynb'\n",
            "'Copy of Copy of sample_build_model_pytorch (2).ipynb'\n",
            "'Copy of Copy of sample_build_model_pytorch.ipynb'\n",
            "'Copy of Plotting and visualization with matplotlib.ipynb'\n",
            "'Copy of PyTorch_cifar10_tutorial_ROB313_2018.ipynb'\n",
            "'Copy of Sample building CNN for MNIST classification.ipynb'\n",
            "'Copy of sample_build_model_pytorch.ipynb'\n",
            "'Copy of training_tomato_for_webapp.ipynb'\n",
            " dataset_final_100.zip\n",
            " lecture1.ipynb\n",
            " object_detection_retinanet.ipynb\n",
            "'Overfitting & underfitting test'\n",
            " sample_inference.jpg\n",
            " test_colab.ipynb\n",
            "'underfitting and overfitting.ipynb'\n"
          ],
          "name": "stdout"
        }
      ]
    },
    {
      "cell_type": "code",
      "metadata": {
        "id": "5sjNjK6f-Iod",
        "colab_type": "code",
        "outputId": "b2678a89-3cfd-4224-f005-467858dc71e5",
        "colab": {
          "base_uri": "https://localhost:8080/",
          "height": 34
        }
      },
      "source": [
        "!unzip data.zip"
      ],
      "execution_count": 0,
      "outputs": [
        {
          "output_type": "stream",
          "text": [
            "unzip:  cannot find or open data.zip, data.zip.zip or data.zip.ZIP.\n"
          ],
          "name": "stdout"
        }
      ]
    },
    {
      "cell_type": "code",
      "metadata": {
        "id": "TSOTHNNc-PQF",
        "colab_type": "code",
        "outputId": "e4330d13-f316-40c2-a690-c12ddd1bf76a",
        "colab": {
          "base_uri": "https://localhost:8080/",
          "height": 289
        }
      },
      "source": [
        "!ls"
      ],
      "execution_count": 0,
      "outputs": [
        {
          "output_type": "stream",
          "text": [
            " best_model.pth\n",
            "'Copy of Copy of sample_build_model_pytorch (1).ipynb'\n",
            "'Copy of Copy of sample_build_model_pytorch (2).ipynb'\n",
            "'Copy of Copy of sample_build_model_pytorch.ipynb'\n",
            "'Copy of Plotting and visualization with matplotlib.ipynb'\n",
            "'Copy of PyTorch_cifar10_tutorial_ROB313_2018.ipynb'\n",
            "'Copy of Sample building CNN for MNIST classification.ipynb'\n",
            "'Copy of sample_build_model_pytorch.ipynb'\n",
            "'Copy of training_tomato_for_webapp.ipynb'\n",
            " dataset_final_100.zip\n",
            " lecture1.ipynb\n",
            " object_detection_retinanet.ipynb\n",
            "'Overfitting & underfitting test'\n",
            " sample_inference.jpg\n",
            " test_colab.ipynb\n",
            "'underfitting and overfitting.ipynb'\n"
          ],
          "name": "stdout"
        }
      ]
    },
    {
      "cell_type": "markdown",
      "metadata": {
        "id": "0CmbW_fHDCL3",
        "colab_type": "text"
      },
      "source": [
        "##MNIST Test\n",
        "\n"
      ]
    },
    {
      "cell_type": "code",
      "metadata": {
        "id": "cCm1qvBEq8UO",
        "colab_type": "code",
        "colab": {}
      },
      "source": [
        "import torch\n",
        "from torchvision import transforms\n",
        "import numpy as np\n",
        "import pandas as pd # read table-like data\n",
        "import os\n",
        "import cv2"
      ],
      "execution_count": 0,
      "outputs": []
    },
    {
      "cell_type": "code",
      "metadata": {
        "id": "PYtapdZmfl7-",
        "colab_type": "code",
        "outputId": "ccbd0a31-a954-4cf3-feeb-1d6af0721fac",
        "colab": {
          "base_uri": "https://localhost:8080/",
          "height": 34
        }
      },
      "source": [
        "np.linspace(3 , 5 , 5)"
      ],
      "execution_count": 0,
      "outputs": [
        {
          "output_type": "execute_result",
          "data": {
            "text/plain": [
              "array([3. , 3.5, 4. , 4.5, 5. ])"
            ]
          },
          "metadata": {
            "tags": []
          },
          "execution_count": 4
        }
      ]
    },
    {
      "cell_type": "code",
      "metadata": {
        "id": "kRR7SJ1CrAO2",
        "colab_type": "code",
        "colab": {}
      },
      "source": [
        "import os, glob\n",
        "import torch\n",
        "from torch.utils.data import Dataset, DataLoader\n",
        "import torchvision\n",
        "import numpy as np\n",
        "import cv2\n",
        "\n",
        "class BasicDataset(Dataset):\n",
        "    def __init__(self, data_path):\n",
        "        # \"mnist/*\"\n",
        "        self.data_dirs = glob.glob(os.path.join(data_path, \"*\"))\n",
        "        # \"mnist/*/*.jpg\"\n",
        "        self.data_paths = glob.glob(os.path.join(data_path, \"*\", \"*.jpg\"))\n",
        "    \n",
        "    def __len__(self):\n",
        "        return len(self.data_paths)\n",
        "    \n",
        "    def __getitem__(self, idx):\n",
        "        # Step 1: read image and label into numpy arrays\n",
        "        image = cv2.imread(self.data_paths[idx])\n",
        "        label = self.__get_label(self.data_paths[idx])\n",
        "\n",
        "        # Step 2: convert numpy arrays into torch tensors for processing\n",
        "        image = transforms.ToTensor()(image)\n",
        "        label = torch.tensor(label)\n",
        "\n",
        "        # Step 3: convert torch CPU tensors to torch GPU tensors\n",
        "        image = image.cuda()\n",
        "        label = label.cuda()\n",
        "\n",
        "        return image, label\n",
        "\n",
        "    def __get_label(self, path):\n",
        "        #\"mnist/1/198.jpg\" ~> 1\n",
        "        # Step 1: extract \"mnist/1\"\n",
        "        dirname = os.path.dirname(path)\n",
        "        # Step 2: extract \"1\"\n",
        "        basename = os.path.basename(dirname)\n",
        "        # Step 3: convert \"1\" to 1\n",
        "        label = int(basename)\n",
        "        return label"
      ],
      "execution_count": 0,
      "outputs": []
    },
    {
      "cell_type": "code",
      "metadata": {
        "id": "_Rrt-ge2rIo-",
        "colab_type": "code",
        "colab": {}
      },
      "source": [
        "dataset = BasicDataset(data_path=\"small_mnist\")"
      ],
      "execution_count": 0,
      "outputs": []
    },
    {
      "cell_type": "code",
      "metadata": {
        "id": "mWD6Qj-_rPKq",
        "colab_type": "code",
        "colab": {}
      },
      "source": [
        "dataloader = DataLoader(dataset, \n",
        "                        batch_size=16, \n",
        "                        shuffle=True, \n",
        "                        num_workers=16)"
      ],
      "execution_count": 0,
      "outputs": []
    },
    {
      "cell_type": "code",
      "metadata": {
        "id": "rIrBD0jurSOC",
        "colab_type": "code",
        "outputId": "42a9e996-d3b9-4cb9-b964-be2468850548",
        "colab": {
          "base_uri": "https://localhost:8080/",
          "height": 51
        }
      },
      "source": [
        "model = torchvision.models.resnet18(pretrained=True)\n",
        "model.fc = torch.nn.Linear(512,3)"
      ],
      "execution_count": 0,
      "outputs": [
        {
          "output_type": "stream",
          "text": [
            "Downloading: \"https://download.pytorch.org/models/resnet18-5c106cde.pth\" to /root/.cache/torch/checkpoints/resnet18-5c106cde.pth\n",
            "100%|██████████| 44.7M/44.7M [00:00<00:00, 55.4MB/s]\n"
          ],
          "name": "stderr"
        }
      ]
    },
    {
      "cell_type": "code",
      "metadata": {
        "id": "WyC7BKX8ref5",
        "colab_type": "code",
        "outputId": "1d1bb9f0-2da6-4344-f42f-f6b494251b41",
        "colab": {
          "base_uri": "https://localhost:8080/",
          "height": 374
        }
      },
      "source": [
        "# try to pass data into the model\n",
        "for image,label in dataloader:\n",
        "  print(\"image = {}, label = {}\".format(image, label))\n",
        "  output = model(image)\n",
        "  print(output.shape)\n",
        "  break"
      ],
      "execution_count": 0,
      "outputs": [
        {
          "output_type": "error",
          "ename": "KeyboardInterrupt",
          "evalue": "ignored",
          "traceback": [
            "\u001b[0;31m---------------------------------------------------------------------------\u001b[0m",
            "\u001b[0;31mKeyboardInterrupt\u001b[0m                         Traceback (most recent call last)",
            "\u001b[0;32m<ipython-input-10-4ce565a90b11>\u001b[0m in \u001b[0;36m<module>\u001b[0;34m()\u001b[0m\n\u001b[0;32m----> 1\u001b[0;31m \u001b[0;32mfor\u001b[0m \u001b[0mimage\u001b[0m\u001b[0;34m,\u001b[0m\u001b[0mlabel\u001b[0m \u001b[0;32min\u001b[0m \u001b[0mdataloader\u001b[0m\u001b[0;34m:\u001b[0m\u001b[0;34m\u001b[0m\u001b[0;34m\u001b[0m\u001b[0m\n\u001b[0m\u001b[1;32m      2\u001b[0m   \u001b[0mprint\u001b[0m\u001b[0;34m(\u001b[0m\u001b[0;34m\"image = {}, label = {}\"\u001b[0m\u001b[0;34m.\u001b[0m\u001b[0mformat\u001b[0m\u001b[0;34m(\u001b[0m\u001b[0mimage\u001b[0m\u001b[0;34m,\u001b[0m \u001b[0mlabel\u001b[0m\u001b[0;34m)\u001b[0m\u001b[0;34m)\u001b[0m\u001b[0;34m\u001b[0m\u001b[0;34m\u001b[0m\u001b[0m\n\u001b[1;32m      3\u001b[0m   \u001b[0moutput\u001b[0m \u001b[0;34m=\u001b[0m \u001b[0mmodel\u001b[0m\u001b[0;34m(\u001b[0m\u001b[0mimage\u001b[0m\u001b[0;34m)\u001b[0m\u001b[0;34m\u001b[0m\u001b[0;34m\u001b[0m\u001b[0m\n\u001b[1;32m      4\u001b[0m   \u001b[0mprint\u001b[0m\u001b[0;34m(\u001b[0m\u001b[0moutput\u001b[0m\u001b[0;34m.\u001b[0m\u001b[0mshape\u001b[0m\u001b[0;34m)\u001b[0m\u001b[0;34m\u001b[0m\u001b[0;34m\u001b[0m\u001b[0m\n\u001b[1;32m      5\u001b[0m   \u001b[0;32mbreak\u001b[0m\u001b[0;34m\u001b[0m\u001b[0;34m\u001b[0m\u001b[0m\n",
            "\u001b[0;32m/usr/local/lib/python3.6/dist-packages/torch/utils/data/dataloader.py\u001b[0m in \u001b[0;36m__next__\u001b[0;34m(self)\u001b[0m\n\u001b[1;32m    802\u001b[0m \u001b[0;34m\u001b[0m\u001b[0m\n\u001b[1;32m    803\u001b[0m             \u001b[0;32massert\u001b[0m \u001b[0;32mnot\u001b[0m \u001b[0mself\u001b[0m\u001b[0;34m.\u001b[0m\u001b[0m_shutdown\u001b[0m \u001b[0;32mand\u001b[0m \u001b[0mself\u001b[0m\u001b[0;34m.\u001b[0m\u001b[0m_tasks_outstanding\u001b[0m \u001b[0;34m>\u001b[0m \u001b[0;36m0\u001b[0m\u001b[0;34m\u001b[0m\u001b[0;34m\u001b[0m\u001b[0m\n\u001b[0;32m--> 804\u001b[0;31m             \u001b[0midx\u001b[0m\u001b[0;34m,\u001b[0m \u001b[0mdata\u001b[0m \u001b[0;34m=\u001b[0m \u001b[0mself\u001b[0m\u001b[0;34m.\u001b[0m\u001b[0m_get_data\u001b[0m\u001b[0;34m(\u001b[0m\u001b[0;34m)\u001b[0m\u001b[0;34m\u001b[0m\u001b[0;34m\u001b[0m\u001b[0m\n\u001b[0m\u001b[1;32m    805\u001b[0m             \u001b[0mself\u001b[0m\u001b[0;34m.\u001b[0m\u001b[0m_tasks_outstanding\u001b[0m \u001b[0;34m-=\u001b[0m \u001b[0;36m1\u001b[0m\u001b[0;34m\u001b[0m\u001b[0;34m\u001b[0m\u001b[0m\n\u001b[1;32m    806\u001b[0m \u001b[0;34m\u001b[0m\u001b[0m\n",
            "\u001b[0;32m/usr/local/lib/python3.6/dist-packages/torch/utils/data/dataloader.py\u001b[0m in \u001b[0;36m_get_data\u001b[0;34m(self)\u001b[0m\n\u001b[1;32m    769\u001b[0m         \u001b[0;32melse\u001b[0m\u001b[0;34m:\u001b[0m\u001b[0;34m\u001b[0m\u001b[0;34m\u001b[0m\u001b[0m\n\u001b[1;32m    770\u001b[0m             \u001b[0;32mwhile\u001b[0m \u001b[0;32mTrue\u001b[0m\u001b[0;34m:\u001b[0m\u001b[0;34m\u001b[0m\u001b[0;34m\u001b[0m\u001b[0m\n\u001b[0;32m--> 771\u001b[0;31m                 \u001b[0msuccess\u001b[0m\u001b[0;34m,\u001b[0m \u001b[0mdata\u001b[0m \u001b[0;34m=\u001b[0m \u001b[0mself\u001b[0m\u001b[0;34m.\u001b[0m\u001b[0m_try_get_data\u001b[0m\u001b[0;34m(\u001b[0m\u001b[0;34m)\u001b[0m\u001b[0;34m\u001b[0m\u001b[0;34m\u001b[0m\u001b[0m\n\u001b[0m\u001b[1;32m    772\u001b[0m                 \u001b[0;32mif\u001b[0m \u001b[0msuccess\u001b[0m\u001b[0;34m:\u001b[0m\u001b[0;34m\u001b[0m\u001b[0;34m\u001b[0m\u001b[0m\n\u001b[1;32m    773\u001b[0m                     \u001b[0;32mreturn\u001b[0m \u001b[0mdata\u001b[0m\u001b[0;34m\u001b[0m\u001b[0;34m\u001b[0m\u001b[0m\n",
            "\u001b[0;32m/usr/local/lib/python3.6/dist-packages/torch/utils/data/dataloader.py\u001b[0m in \u001b[0;36m_try_get_data\u001b[0;34m(self, timeout)\u001b[0m\n\u001b[1;32m    722\u001b[0m         \u001b[0;31m#   (bool: whether successfully get data, any: data if successful else None)\u001b[0m\u001b[0;34m\u001b[0m\u001b[0;34m\u001b[0m\u001b[0;34m\u001b[0m\u001b[0m\n\u001b[1;32m    723\u001b[0m         \u001b[0;32mtry\u001b[0m\u001b[0;34m:\u001b[0m\u001b[0;34m\u001b[0m\u001b[0;34m\u001b[0m\u001b[0m\n\u001b[0;32m--> 724\u001b[0;31m             \u001b[0mdata\u001b[0m \u001b[0;34m=\u001b[0m \u001b[0mself\u001b[0m\u001b[0;34m.\u001b[0m\u001b[0m_data_queue\u001b[0m\u001b[0;34m.\u001b[0m\u001b[0mget\u001b[0m\u001b[0;34m(\u001b[0m\u001b[0mtimeout\u001b[0m\u001b[0;34m=\u001b[0m\u001b[0mtimeout\u001b[0m\u001b[0;34m)\u001b[0m\u001b[0;34m\u001b[0m\u001b[0;34m\u001b[0m\u001b[0m\n\u001b[0m\u001b[1;32m    725\u001b[0m             \u001b[0;32mreturn\u001b[0m \u001b[0;34m(\u001b[0m\u001b[0;32mTrue\u001b[0m\u001b[0;34m,\u001b[0m \u001b[0mdata\u001b[0m\u001b[0;34m)\u001b[0m\u001b[0;34m\u001b[0m\u001b[0;34m\u001b[0m\u001b[0m\n\u001b[1;32m    726\u001b[0m         \u001b[0;32mexcept\u001b[0m \u001b[0mException\u001b[0m \u001b[0;32mas\u001b[0m \u001b[0me\u001b[0m\u001b[0;34m:\u001b[0m\u001b[0;34m\u001b[0m\u001b[0;34m\u001b[0m\u001b[0m\n",
            "\u001b[0;32m/usr/lib/python3.6/multiprocessing/queues.py\u001b[0m in \u001b[0;36mget\u001b[0;34m(self, block, timeout)\u001b[0m\n\u001b[1;32m    102\u001b[0m                 \u001b[0;32mif\u001b[0m \u001b[0mblock\u001b[0m\u001b[0;34m:\u001b[0m\u001b[0;34m\u001b[0m\u001b[0;34m\u001b[0m\u001b[0m\n\u001b[1;32m    103\u001b[0m                     \u001b[0mtimeout\u001b[0m \u001b[0;34m=\u001b[0m \u001b[0mdeadline\u001b[0m \u001b[0;34m-\u001b[0m \u001b[0mtime\u001b[0m\u001b[0;34m.\u001b[0m\u001b[0mmonotonic\u001b[0m\u001b[0;34m(\u001b[0m\u001b[0;34m)\u001b[0m\u001b[0;34m\u001b[0m\u001b[0;34m\u001b[0m\u001b[0m\n\u001b[0;32m--> 104\u001b[0;31m                     \u001b[0;32mif\u001b[0m \u001b[0;32mnot\u001b[0m \u001b[0mself\u001b[0m\u001b[0;34m.\u001b[0m\u001b[0m_poll\u001b[0m\u001b[0;34m(\u001b[0m\u001b[0mtimeout\u001b[0m\u001b[0;34m)\u001b[0m\u001b[0;34m:\u001b[0m\u001b[0;34m\u001b[0m\u001b[0;34m\u001b[0m\u001b[0m\n\u001b[0m\u001b[1;32m    105\u001b[0m                         \u001b[0;32mraise\u001b[0m \u001b[0mEmpty\u001b[0m\u001b[0;34m\u001b[0m\u001b[0;34m\u001b[0m\u001b[0m\n\u001b[1;32m    106\u001b[0m                 \u001b[0;32melif\u001b[0m \u001b[0;32mnot\u001b[0m \u001b[0mself\u001b[0m\u001b[0;34m.\u001b[0m\u001b[0m_poll\u001b[0m\u001b[0;34m(\u001b[0m\u001b[0;34m)\u001b[0m\u001b[0;34m:\u001b[0m\u001b[0;34m\u001b[0m\u001b[0;34m\u001b[0m\u001b[0m\n",
            "\u001b[0;32m/usr/lib/python3.6/multiprocessing/connection.py\u001b[0m in \u001b[0;36mpoll\u001b[0;34m(self, timeout)\u001b[0m\n\u001b[1;32m    255\u001b[0m         \u001b[0mself\u001b[0m\u001b[0;34m.\u001b[0m\u001b[0m_check_closed\u001b[0m\u001b[0;34m(\u001b[0m\u001b[0;34m)\u001b[0m\u001b[0;34m\u001b[0m\u001b[0;34m\u001b[0m\u001b[0m\n\u001b[1;32m    256\u001b[0m         \u001b[0mself\u001b[0m\u001b[0;34m.\u001b[0m\u001b[0m_check_readable\u001b[0m\u001b[0;34m(\u001b[0m\u001b[0;34m)\u001b[0m\u001b[0;34m\u001b[0m\u001b[0;34m\u001b[0m\u001b[0m\n\u001b[0;32m--> 257\u001b[0;31m         \u001b[0;32mreturn\u001b[0m \u001b[0mself\u001b[0m\u001b[0;34m.\u001b[0m\u001b[0m_poll\u001b[0m\u001b[0;34m(\u001b[0m\u001b[0mtimeout\u001b[0m\u001b[0;34m)\u001b[0m\u001b[0;34m\u001b[0m\u001b[0;34m\u001b[0m\u001b[0m\n\u001b[0m\u001b[1;32m    258\u001b[0m \u001b[0;34m\u001b[0m\u001b[0m\n\u001b[1;32m    259\u001b[0m     \u001b[0;32mdef\u001b[0m \u001b[0m__enter__\u001b[0m\u001b[0;34m(\u001b[0m\u001b[0mself\u001b[0m\u001b[0;34m)\u001b[0m\u001b[0;34m:\u001b[0m\u001b[0;34m\u001b[0m\u001b[0;34m\u001b[0m\u001b[0m\n",
            "\u001b[0;32m/usr/lib/python3.6/multiprocessing/connection.py\u001b[0m in \u001b[0;36m_poll\u001b[0;34m(self, timeout)\u001b[0m\n\u001b[1;32m    412\u001b[0m \u001b[0;34m\u001b[0m\u001b[0m\n\u001b[1;32m    413\u001b[0m     \u001b[0;32mdef\u001b[0m \u001b[0m_poll\u001b[0m\u001b[0;34m(\u001b[0m\u001b[0mself\u001b[0m\u001b[0;34m,\u001b[0m \u001b[0mtimeout\u001b[0m\u001b[0;34m)\u001b[0m\u001b[0;34m:\u001b[0m\u001b[0;34m\u001b[0m\u001b[0;34m\u001b[0m\u001b[0m\n\u001b[0;32m--> 414\u001b[0;31m         \u001b[0mr\u001b[0m \u001b[0;34m=\u001b[0m \u001b[0mwait\u001b[0m\u001b[0;34m(\u001b[0m\u001b[0;34m[\u001b[0m\u001b[0mself\u001b[0m\u001b[0;34m]\u001b[0m\u001b[0;34m,\u001b[0m \u001b[0mtimeout\u001b[0m\u001b[0;34m)\u001b[0m\u001b[0;34m\u001b[0m\u001b[0;34m\u001b[0m\u001b[0m\n\u001b[0m\u001b[1;32m    415\u001b[0m         \u001b[0;32mreturn\u001b[0m \u001b[0mbool\u001b[0m\u001b[0;34m(\u001b[0m\u001b[0mr\u001b[0m\u001b[0;34m)\u001b[0m\u001b[0;34m\u001b[0m\u001b[0;34m\u001b[0m\u001b[0m\n\u001b[1;32m    416\u001b[0m \u001b[0;34m\u001b[0m\u001b[0m\n",
            "\u001b[0;32m/usr/lib/python3.6/multiprocessing/connection.py\u001b[0m in \u001b[0;36mwait\u001b[0;34m(object_list, timeout)\u001b[0m\n\u001b[1;32m    909\u001b[0m \u001b[0;34m\u001b[0m\u001b[0m\n\u001b[1;32m    910\u001b[0m             \u001b[0;32mwhile\u001b[0m \u001b[0;32mTrue\u001b[0m\u001b[0;34m:\u001b[0m\u001b[0;34m\u001b[0m\u001b[0;34m\u001b[0m\u001b[0m\n\u001b[0;32m--> 911\u001b[0;31m                 \u001b[0mready\u001b[0m \u001b[0;34m=\u001b[0m \u001b[0mselector\u001b[0m\u001b[0;34m.\u001b[0m\u001b[0mselect\u001b[0m\u001b[0;34m(\u001b[0m\u001b[0mtimeout\u001b[0m\u001b[0;34m)\u001b[0m\u001b[0;34m\u001b[0m\u001b[0;34m\u001b[0m\u001b[0m\n\u001b[0m\u001b[1;32m    912\u001b[0m                 \u001b[0;32mif\u001b[0m \u001b[0mready\u001b[0m\u001b[0;34m:\u001b[0m\u001b[0;34m\u001b[0m\u001b[0;34m\u001b[0m\u001b[0m\n\u001b[1;32m    913\u001b[0m                     \u001b[0;32mreturn\u001b[0m \u001b[0;34m[\u001b[0m\u001b[0mkey\u001b[0m\u001b[0;34m.\u001b[0m\u001b[0mfileobj\u001b[0m \u001b[0;32mfor\u001b[0m \u001b[0;34m(\u001b[0m\u001b[0mkey\u001b[0m\u001b[0;34m,\u001b[0m \u001b[0mevents\u001b[0m\u001b[0;34m)\u001b[0m \u001b[0;32min\u001b[0m \u001b[0mready\u001b[0m\u001b[0;34m]\u001b[0m\u001b[0;34m\u001b[0m\u001b[0;34m\u001b[0m\u001b[0m\n",
            "\u001b[0;32m/usr/lib/python3.6/selectors.py\u001b[0m in \u001b[0;36mselect\u001b[0;34m(self, timeout)\u001b[0m\n\u001b[1;32m    374\u001b[0m             \u001b[0mready\u001b[0m \u001b[0;34m=\u001b[0m \u001b[0;34m[\u001b[0m\u001b[0;34m]\u001b[0m\u001b[0;34m\u001b[0m\u001b[0;34m\u001b[0m\u001b[0m\n\u001b[1;32m    375\u001b[0m             \u001b[0;32mtry\u001b[0m\u001b[0;34m:\u001b[0m\u001b[0;34m\u001b[0m\u001b[0;34m\u001b[0m\u001b[0m\n\u001b[0;32m--> 376\u001b[0;31m                 \u001b[0mfd_event_list\u001b[0m \u001b[0;34m=\u001b[0m \u001b[0mself\u001b[0m\u001b[0;34m.\u001b[0m\u001b[0m_poll\u001b[0m\u001b[0;34m.\u001b[0m\u001b[0mpoll\u001b[0m\u001b[0;34m(\u001b[0m\u001b[0mtimeout\u001b[0m\u001b[0;34m)\u001b[0m\u001b[0;34m\u001b[0m\u001b[0;34m\u001b[0m\u001b[0m\n\u001b[0m\u001b[1;32m    377\u001b[0m             \u001b[0;32mexcept\u001b[0m \u001b[0mInterruptedError\u001b[0m\u001b[0;34m:\u001b[0m\u001b[0;34m\u001b[0m\u001b[0;34m\u001b[0m\u001b[0m\n\u001b[1;32m    378\u001b[0m                 \u001b[0;32mreturn\u001b[0m \u001b[0mready\u001b[0m\u001b[0;34m\u001b[0m\u001b[0;34m\u001b[0m\u001b[0m\n",
            "\u001b[0;31mKeyboardInterrupt\u001b[0m: "
          ]
        }
      ]
    },
    {
      "cell_type": "code",
      "metadata": {
        "id": "pfbDRAzgsWXN",
        "colab_type": "code",
        "colab": {}
      },
      "source": [
        "loss_function = torch.nn.CrossEntropyLoss()\n",
        "optimizer = torch.optim.Adam(model.parameters(),lr=0.0001)\n",
        "\n",
        "loss_analysis = 0;\n",
        "num_epoch = 10\n",
        "best_loss = 100000000\n",
        "for epoch in range(num_epoch):\n",
        "  loss_analysis = 0\n",
        "  for step,(x,y) in enumerate(dataloader):\n",
        "    preds = model(x)\n",
        "    \n",
        "    loss = loss_function(preds,y.long())\n",
        "    # print(\"pred = {}, y = {}\".format(preds, y.long()))\n",
        "    loss_analysis += loss\n",
        "    if ((step + 1) % 10 == 0):\n",
        "        loss_analysis /= 10\n",
        "        print(\"---Loss after 10 step = {}---\".format(loss_analysis))\n",
        "        loss_analysis = 0\n",
        "    loss.backward() # calculate gradient \n",
        "    optimizer.step() # update model parameters\n",
        "    optimizer.zero_grad()\n",
        "    print(f'epoch {epoch+1} step {step+1} loss:{loss.item()}')\n",
        "    if loss.item() < best_loss:\n",
        "      best_loss = loss.item()\n",
        "      torch.save(model.state_dict(),f\"best_model.pth\")"
      ],
      "execution_count": 0,
      "outputs": []
    },
    {
      "cell_type": "markdown",
      "metadata": {
        "id": "C4cVF8PIsFUE",
        "colab_type": "text"
      },
      "source": [
        "##Disk Classification"
      ]
    },
    {
      "cell_type": "code",
      "metadata": {
        "id": "2zuEIs5g-Sy0",
        "colab_type": "code",
        "colab": {}
      },
      "source": [
        "import torch\n",
        "import torchvision\n",
        "import numpy as np\n",
        "import pandas as pd # read table-like data\n",
        "import os\n",
        "import cv2\n",
        "import matplotlib.pyplot as plt"
      ],
      "execution_count": 0,
      "outputs": []
    },
    {
      "cell_type": "code",
      "metadata": {
        "id": "JxrVIaQ8_H2h",
        "colab_type": "code",
        "colab": {}
      },
      "source": [
        "from torchvision import transforms\n",
        "\n",
        "class RoomDataset(torch.utils.data.Dataset):\n",
        "  def __init__(self,data_path):\n",
        "    super().__init__()\n",
        "    self.data_path = data_path\n",
        "    self.csv_path = os.path.join(data_path,'annotation.csv')\n",
        "    self.data = pd.read_csv(self.csv_path).values\n",
        "    self.mapping_label = {\n",
        "        \"GROUP-OF-COUNT\":0,\n",
        "        \"SCRATCH\":1,\n",
        "        \"WHOLE-SURFACE\":2,\n",
        "    }\n",
        "    print(f\"data has {len(self.data)} samples.\")\n",
        "  \n",
        "  def __len__(self):\n",
        "    return len(self.data)\n",
        "\n",
        "  def __getitem__(self,index):\n",
        "    image_name, room_type = self.data[index]\n",
        "    image_path = os.path.join(self.data_path,image_name)\n",
        "    image = cv2.imread(image_path)\n",
        "    image = cv2.resize(image,(256,256))\n",
        "    image = transforms.ToTensor()(image)\n",
        "    label = self.mapping_label[room_type]\n",
        "    return image,label"
      ],
      "execution_count": 0,
      "outputs": []
    },
    {
      "cell_type": "code",
      "metadata": {
        "id": "SD8uAt0jANcl",
        "colab_type": "code",
        "outputId": "b08d43a3-ce42-45b2-e78c-b307d9342eb1",
        "colab": {
          "base_uri": "https://localhost:8080/",
          "height": 34
        }
      },
      "source": [
        "dataset = RoomDataset('/content/drive/My Drive/AI_Learn_NEW')"
      ],
      "execution_count": 0,
      "outputs": [
        {
          "output_type": "stream",
          "text": [
            "data has 747 samples.\n"
          ],
          "name": "stdout"
        }
      ]
    },
    {
      "cell_type": "code",
      "metadata": {
        "id": "lV5yaR_GAgEe",
        "colab_type": "code",
        "colab": {}
      },
      "source": [
        "dataloader = torch.utils.data.DataLoader(dataset,batch_size=32,shuffle=True,num_workers=10)"
      ],
      "execution_count": 0,
      "outputs": []
    },
    {
      "cell_type": "markdown",
      "metadata": {
        "id": "ewGBPHuUXxU5",
        "colab_type": "text"
      },
      "source": [
        "Build model"
      ]
    },
    {
      "cell_type": "code",
      "metadata": {
        "id": "IdnuaUvoCpgk",
        "colab_type": "code",
        "outputId": "4fb970df-f777-4857-c168-ecd536bf569c",
        "colab": {
          "base_uri": "https://localhost:8080/",
          "height": 83,
          "referenced_widgets": [
            "1e29a9a7e65c4c7fbd627bc4f0c8775a",
            "c4dcbe66de83421f95c448eb2386b864",
            "059eab72644a42d89ab033e9337fa72d",
            "b75a9859f1364335aed4ae297a8744c4",
            "0caf4eb70500414b9d2227851f5d0d6b",
            "f088207047b749b9869a005fe9223e8b",
            "7b6eb38236d1461a8fd80f9974a5f28a",
            "fd47070f3c344256ab2c9d4b34e48550"
          ]
        }
      },
      "source": [
        "model = torchvision.models.resnet18(pretrained=True)\n",
        "model.fc = torch.nn.Linear(512, 3)"
      ],
      "execution_count": 0,
      "outputs": [
        {
          "output_type": "stream",
          "text": [
            "Downloading: \"https://download.pytorch.org/models/resnet18-5c106cde.pth\" to /root/.cache/torch/checkpoints/resnet18-5c106cde.pth\n"
          ],
          "name": "stderr"
        },
        {
          "output_type": "display_data",
          "data": {
            "application/vnd.jupyter.widget-view+json": {
              "model_id": "1e29a9a7e65c4c7fbd627bc4f0c8775a",
              "version_minor": 0,
              "version_major": 2
            },
            "text/plain": [
              "HBox(children=(FloatProgress(value=0.0, max=46827520.0), HTML(value='')))"
            ]
          },
          "metadata": {
            "tags": []
          }
        },
        {
          "output_type": "stream",
          "text": [
            "\n"
          ],
          "name": "stdout"
        }
      ]
    },
    {
      "cell_type": "markdown",
      "metadata": {
        "id": "41Bn2-3IXzr5",
        "colab_type": "text"
      },
      "source": [
        ""
      ]
    },
    {
      "cell_type": "code",
      "metadata": {
        "id": "uw6b1Ma7GeYW",
        "colab_type": "code",
        "outputId": "643902e8-f59a-49a9-b8a1-bd96a5af85db",
        "colab": {
          "base_uri": "https://localhost:8080/",
          "height": 34
        }
      },
      "source": [
        "# try to pass data into the model\n",
        "for image,label in dataloader:\n",
        "  output = model(image)\n",
        "  print(output.shape)\n",
        "  break"
      ],
      "execution_count": 0,
      "outputs": [
        {
          "output_type": "stream",
          "text": [
            "torch.Size([32, 3])\n"
          ],
          "name": "stdout"
        }
      ]
    },
    {
      "cell_type": "code",
      "metadata": {
        "id": "7tvExfbVkEE3",
        "colab_type": "code",
        "outputId": "72462ce0-ce39-41d1-d8fa-2ef67c4eb7ad",
        "colab": {
          "base_uri": "https://localhost:8080/",
          "height": 163
        }
      },
      "source": [
        "# vis = visdom.Visdom(server='0.0.0.0', port='6006')"
      ],
      "execution_count": 0,
      "outputs": [
        {
          "output_type": "error",
          "ename": "NameError",
          "evalue": "ignored",
          "traceback": [
            "\u001b[0;31m---------------------------------------------------------------------------\u001b[0m",
            "\u001b[0;31mNameError\u001b[0m                                 Traceback (most recent call last)",
            "\u001b[0;32m<ipython-input-31-83b539080f90>\u001b[0m in \u001b[0;36m<module>\u001b[0;34m()\u001b[0m\n\u001b[0;32m----> 1\u001b[0;31m \u001b[0mvis\u001b[0m \u001b[0;34m=\u001b[0m \u001b[0mvisdom\u001b[0m\u001b[0;34m.\u001b[0m\u001b[0mVisdom\u001b[0m\u001b[0;34m(\u001b[0m\u001b[0mserver\u001b[0m\u001b[0;34m=\u001b[0m\u001b[0;34m'0.0.0.0'\u001b[0m\u001b[0;34m,\u001b[0m \u001b[0mport\u001b[0m\u001b[0;34m=\u001b[0m\u001b[0;34m'6006'\u001b[0m\u001b[0;34m)\u001b[0m\u001b[0;34m\u001b[0m\u001b[0;34m\u001b[0m\u001b[0m\n\u001b[0m",
            "\u001b[0;31mNameError\u001b[0m: name 'visdom' is not defined"
          ]
        }
      ]
    },
    {
      "cell_type": "code",
      "metadata": {
        "id": "PmoF6uMIIhz5",
        "colab_type": "code",
        "outputId": "fc8162e4-cc13-436c-e25c-c17071650da7",
        "colab": {
          "base_uri": "https://localhost:8080/",
          "height": 1000
        }
      },
      "source": [
        "loss_function = torch.nn.CrossEntropyLoss()\n",
        "optimizer = torch.optim.Adam(model.parameters(),lr=0.0001)\n",
        "\n",
        "loss_analysis = 0;\n",
        "num_epoch = 5\n",
        "count = 0\n",
        "best_loss = 100000000\n",
        "loss_values = []\n",
        "iterator_values = []\n",
        "for epoch in range(num_epoch):\n",
        "  loss_analysis = 0\n",
        "  for step,(x,y) in enumerate(dataloader):\n",
        "    count += 1\n",
        "    if (count % 5 == 0):\n",
        "      iterator_values.append(count)\n",
        "    preds = model(x)\n",
        "    loss = loss_function(preds,y.long())\n",
        "    # print(\"pred = {}, y = {}\".format(preds, y.long()))\n",
        "    loss_analysis += loss\n",
        "    loss_values.append(loss)\n",
        "    if ((step + 1) % 10 == 0):\n",
        "      loss_analysis /= 10\n",
        "      print(\"---Loss after 10 step = {}---\".format(loss_analysis))\n",
        "      loss_analysis = 0\n",
        "    loss.backward() # calculate gradient \n",
        "    optimizer.step() # update model parameters\n",
        "    optimizer.zero_grad()\n",
        "    print(f'epoch {epoch+1} step {step+1} loss:{loss.item()}')\n",
        "    if loss.item() < best_loss:\n",
        "      best_loss = loss.item()\n",
        "      torch.save(model.state_dict(),f\"best_model.pth\")\n",
        "plt.plot(np.array(iterator_values), np.array(loss_values), \"r\")\n",
        "plt.xlabel(\"Number of epoch\")\n",
        "plt.ylabel(\"Loss\")\n",
        "plt.title(\"Result of training\")\n",
        "plt.show()"
      ],
      "execution_count": 0,
      "outputs": [
        {
          "output_type": "stream",
          "text": [
            "epoch 1 step 1 loss:1.1643511056900024\n",
            "epoch 1 step 2 loss:0.9321860074996948\n",
            "epoch 1 step 3 loss:0.7398155331611633\n",
            "epoch 1 step 4 loss:0.5771719217300415\n",
            "epoch 1 step 5 loss:0.5709444284439087\n",
            "epoch 1 step 6 loss:0.6461389064788818\n",
            "epoch 1 step 7 loss:0.6412171125411987\n",
            "epoch 1 step 8 loss:0.6142600774765015\n",
            "epoch 1 step 9 loss:0.4272719621658325\n",
            "---Loss after 10 step = 0.7028226256370544---\n",
            "epoch 1 step 10 loss:0.7148696780204773\n",
            "epoch 1 step 11 loss:0.40301409363746643\n",
            "epoch 1 step 12 loss:0.32085105776786804\n",
            "epoch 1 step 13 loss:0.44892245531082153\n",
            "epoch 1 step 14 loss:0.47970956563949585\n",
            "epoch 1 step 15 loss:0.39361047744750977\n",
            "epoch 1 step 16 loss:0.32675403356552124\n",
            "epoch 1 step 17 loss:0.41586431860923767\n",
            "epoch 1 step 18 loss:0.33015748858451843\n",
            "epoch 1 step 19 loss:0.5263663530349731\n",
            "---Loss after 10 step = 0.4094952642917633---\n",
            "epoch 1 step 20 loss:0.449702650308609\n",
            "epoch 1 step 21 loss:0.32297876477241516\n",
            "epoch 1 step 22 loss:0.430345743894577\n",
            "epoch 1 step 23 loss:0.20260323584079742\n",
            "epoch 1 step 24 loss:0.17375558614730835\n",
            "epoch 2 step 1 loss:0.18628165125846863\n",
            "epoch 2 step 2 loss:0.14432524144649506\n",
            "epoch 2 step 3 loss:0.11431635171175003\n",
            "epoch 2 step 4 loss:0.14878560602664948\n",
            "epoch 2 step 5 loss:0.12907280027866364\n",
            "epoch 2 step 6 loss:0.23615868389606476\n",
            "epoch 2 step 7 loss:0.15560314059257507\n",
            "epoch 2 step 8 loss:0.2626430094242096\n",
            "epoch 2 step 9 loss:0.19606949388980865\n",
            "---Loss after 10 step = 0.17256763577461243---\n",
            "epoch 2 step 10 loss:0.15242049098014832\n",
            "epoch 2 step 11 loss:0.2431352138519287\n",
            "epoch 2 step 12 loss:0.188684344291687\n",
            "epoch 2 step 13 loss:0.08819874376058578\n",
            "epoch 2 step 14 loss:0.46667635440826416\n",
            "epoch 2 step 15 loss:0.2503780722618103\n",
            "epoch 2 step 16 loss:0.23906917870044708\n",
            "epoch 2 step 17 loss:0.20782849192619324\n",
            "epoch 2 step 18 loss:0.2262902855873108\n",
            "epoch 2 step 19 loss:0.0843072161078453\n",
            "---Loss after 10 step = 0.21364299952983856---\n",
            "epoch 2 step 20 loss:0.14186209440231323\n",
            "epoch 2 step 21 loss:0.07316089421510696\n",
            "epoch 2 step 22 loss:0.08455078303813934\n",
            "epoch 2 step 23 loss:0.27936872839927673\n",
            "epoch 2 step 24 loss:0.17161351442337036\n",
            "epoch 3 step 1 loss:0.08577986806631088\n",
            "epoch 3 step 2 loss:0.1211104467511177\n",
            "epoch 3 step 3 loss:0.18760564923286438\n",
            "epoch 3 step 4 loss:0.05279405042529106\n",
            "epoch 3 step 5 loss:0.046637095510959625\n",
            "epoch 3 step 6 loss:0.2322147786617279\n",
            "epoch 3 step 7 loss:0.06468985229730606\n",
            "epoch 3 step 8 loss:0.04317127913236618\n",
            "epoch 3 step 9 loss:0.06087395176291466\n",
            "---Loss after 10 step = 0.10009248554706573---\n",
            "epoch 3 step 10 loss:0.10604781657457352\n",
            "epoch 3 step 11 loss:0.06716455519199371\n",
            "epoch 3 step 12 loss:0.15576092898845673\n",
            "epoch 3 step 13 loss:0.024759018793702126\n",
            "epoch 3 step 14 loss:0.04187881574034691\n",
            "epoch 3 step 15 loss:0.11260232329368591\n",
            "epoch 3 step 16 loss:0.016911977902054787\n",
            "epoch 3 step 17 loss:0.035783734172582626\n",
            "epoch 3 step 18 loss:0.04636799544095993\n",
            "epoch 3 step 19 loss:0.045470576733350754\n",
            "---Loss after 10 step = 0.062357641756534576---\n",
            "epoch 3 step 20 loss:0.0768764540553093\n",
            "epoch 3 step 21 loss:0.01951666921377182\n",
            "epoch 3 step 22 loss:0.19472242891788483\n",
            "epoch 3 step 23 loss:0.1350427269935608\n",
            "epoch 3 step 24 loss:0.059305597096681595\n",
            "epoch 4 step 1 loss:0.020598938688635826\n",
            "epoch 4 step 2 loss:0.08843255788087845\n",
            "epoch 4 step 3 loss:0.045701172202825546\n",
            "epoch 4 step 4 loss:0.052086811512708664\n",
            "epoch 4 step 5 loss:0.02816621959209442\n",
            "epoch 4 step 6 loss:0.014239642769098282\n",
            "epoch 4 step 7 loss:0.03610603138804436\n",
            "epoch 4 step 8 loss:0.011403926648199558\n",
            "epoch 4 step 9 loss:0.015654107555747032\n",
            "---Loss after 10 step = 0.036082345992326736---\n",
            "epoch 4 step 10 loss:0.048434048891067505\n",
            "epoch 4 step 11 loss:0.025220172479748726\n",
            "epoch 4 step 12 loss:0.0693570151925087\n",
            "epoch 4 step 13 loss:0.031959667801856995\n",
            "epoch 4 step 14 loss:0.026341218501329422\n",
            "epoch 4 step 15 loss:0.011383330449461937\n",
            "epoch 4 step 16 loss:0.08595699816942215\n",
            "epoch 4 step 17 loss:0.024721872061491013\n",
            "epoch 4 step 18 loss:0.0375421941280365\n",
            "epoch 4 step 19 loss:0.012117867358028889\n",
            "---Loss after 10 step = 0.03741179034113884---\n",
            "epoch 4 step 20 loss:0.04951760172843933\n",
            "epoch 4 step 21 loss:0.03646340221166611\n",
            "epoch 4 step 22 loss:0.018327176570892334\n",
            "epoch 4 step 23 loss:0.009439662098884583\n",
            "epoch 4 step 24 loss:0.06801529228687286\n",
            "epoch 5 step 1 loss:0.01049037091434002\n",
            "epoch 5 step 2 loss:0.005280662328004837\n",
            "epoch 5 step 3 loss:0.009342378005385399\n",
            "epoch 5 step 4 loss:0.007091765757650137\n",
            "epoch 5 step 5 loss:0.01958332024514675\n",
            "epoch 5 step 6 loss:0.0048242905177176\n",
            "epoch 5 step 7 loss:0.00377518218010664\n",
            "epoch 5 step 8 loss:0.03768683597445488\n",
            "epoch 5 step 9 loss:0.010001510381698608\n",
            "---Loss after 10 step = 0.011877150274813175---\n",
            "epoch 5 step 10 loss:0.010695179924368858\n",
            "epoch 5 step 11 loss:0.007752132602035999\n",
            "epoch 5 step 12 loss:0.010666514746844769\n",
            "epoch 5 step 13 loss:0.057181697338819504\n",
            "epoch 5 step 14 loss:0.017850417643785477\n",
            "epoch 5 step 15 loss:0.029632525518536568\n",
            "epoch 5 step 16 loss:0.005978021305054426\n",
            "epoch 5 step 17 loss:0.011747872456908226\n",
            "epoch 5 step 18 loss:0.008107339963316917\n",
            "epoch 5 step 19 loss:0.005510044749826193\n",
            "---Loss after 10 step = 0.016243290156126022---\n",
            "epoch 5 step 20 loss:0.008006365969777107\n",
            "epoch 5 step 21 loss:0.004392820410430431\n",
            "epoch 5 step 22 loss:0.019756771624088287\n",
            "epoch 5 step 23 loss:0.003618032205849886\n",
            "epoch 5 step 24 loss:0.018159953877329826\n"
          ],
          "name": "stdout"
        },
        {
          "output_type": "execute_result",
          "data": {
            "text/plain": [
              "[<matplotlib.lines.Line2D at 0x7f3cb601ee10>]"
            ]
          },
          "metadata": {
            "tags": []
          },
          "execution_count": 11
        },
        {
          "output_type": "display_data",
          "data": {
            "image/png": "[encoded data removed]",
            "text/plain": [
              "<Figure size 432x288 with 1 Axes>"
            ]
          },
          "metadata": {
            "tags": [],
            "needs_background": "light"
          }
        }
      ]
    },
    {
      "cell_type": "code",
      "metadata": {
        "id": "IC1nWY35LD6m",
        "colab_type": "code",
        "outputId": "33c025f5-d1f5-4242-bfbb-5285b47059a7",
        "colab": {
          "base_uri": "https://localhost:8080/",
          "height": 34
        }
      },
      "source": [
        "# torch.save(model.state_dict(),'./model_checkpoint.pth') # save model after training\n",
        "model.load_state_dict(torch.load('./best_model.pth'))# retrieve model from file "
      ],
      "execution_count": 0,
      "outputs": [
        {
          "output_type": "execute_result",
          "data": {
            "text/plain": [
              "<All keys matched successfully>"
            ]
          },
          "metadata": {
            "tags": []
          },
          "execution_count": 12
        }
      ]
    },
    {
      "cell_type": "code",
      "metadata": {
        "id": "Rpp1vHdQMN6-",
        "colab_type": "code",
        "outputId": "795e1ca1-abb9-485a-9406-0a5f96172fed",
        "colab": {
          "base_uri": "https://localhost:8080/",
          "height": 34
        }
      },
      "source": [
        ""
      ],
      "execution_count": 0,
      "outputs": [
        {
          "output_type": "execute_result",
          "data": {
            "text/plain": [
              "<All keys matched successfully>"
            ]
          },
          "metadata": {
            "tags": []
          },
          "execution_count": 65
        }
      ]
    },
    {
      "cell_type": "code",
      "metadata": {
        "id": "nAp4krlBMaim",
        "colab_type": "code",
        "outputId": "79a26e46-1afe-4f37-8ab7-c80c544dd095",
        "colab": {
          "base_uri": "https://localhost:8080/",
          "height": 289
        }
      },
      "source": [
        "# Inference\n",
        "# !wget https://www.dbsbathrooms.co.uk/news/wp-content/uploads/2019/11/iStock-990249406-1024x683.jpg -O sample_inference.jpg\n",
        "!ls\n",
        "os.chdir(\"/content/drive/My Drive/AI_Learn_NEW\")"
      ],
      "execution_count": 0,
      "outputs": [
        {
          "output_type": "stream",
          "text": [
            " best_model.pth\n",
            "'Copy of Copy of sample_build_model_pytorch (1).ipynb'\n",
            "'Copy of Copy of sample_build_model_pytorch (2).ipynb'\n",
            "'Copy of Copy of sample_build_model_pytorch.ipynb'\n",
            "'Copy of Plotting and visualization with matplotlib.ipynb'\n",
            "'Copy of PyTorch_cifar10_tutorial_ROB313_2018.ipynb'\n",
            "'Copy of Sample building CNN for MNIST classification.ipynb'\n",
            "'Copy of sample_build_model_pytorch.ipynb'\n",
            "'Copy of training_tomato_for_webapp.ipynb'\n",
            " dataset_final_100.zip\n",
            " lecture1.ipynb\n",
            " object_detection_retinanet.ipynb\n",
            "'Overfitting & underfitting test'\n",
            " sample_inference.jpg\n",
            " test_colab.ipynb\n",
            "'underfitting and overfitting.ipynb'\n"
          ],
          "name": "stdout"
        }
      ]
    },
    {
      "cell_type": "code",
      "metadata": {
        "id": "crA3BlBjRJHF",
        "colab_type": "code",
        "colab": {}
      },
      "source": [
        "image = cv2.imread('./GROUP-OF-COUNT_918M000360_1_1_B.bmp')\n",
        "image = cv2.resize(image,(256,256))\n",
        "model.eval() # change model to evaluation mode\n",
        "image_tensor = transforms.ToTensor()(image)\n",
        "prediction = model(image_tensor[None,...])"
      ],
      "execution_count": 0,
      "outputs": []
    },
    {
      "cell_type": "code",
      "metadata": {
        "id": "WydnjO2CRh-W",
        "colab_type": "code",
        "outputId": "1a360f49-1fda-4862-b2a1-9781d1e78192",
        "colab": {
          "base_uri": "https://localhost:8080/",
          "height": 105
        }
      },
      "source": [
        "label_index = torch.argmax(prediction[0])\n",
        "probality = torch.nn.functional.softmax(prediction[0])[label_index]\n",
        "label_name = list(dataset.mapping_label.keys())[label_index]\n",
        "print('label: {} probality: {}'.format(label_name,probality))\n",
        "print('Result: {}'.format(prediction.shape))"
      ],
      "execution_count": 0,
      "outputs": [
        {
          "output_type": "stream",
          "text": [
            "label: GROUP-OF-COUNT probality: 0.9983087778091431\n",
            "Result: torch.Size([1, 3])\n"
          ],
          "name": "stdout"
        },
        {
          "output_type": "stream",
          "text": [
            "/usr/local/lib/python3.6/dist-packages/ipykernel_launcher.py:2: UserWarning: Implicit dimension choice for softmax has been deprecated. Change the call to include dim=X as an argument.\n",
            "  \n"
          ],
          "name": "stderr"
        }
      ]
    },
    {
      "cell_type": "code",
      "metadata": {
        "id": "K4BPEy_SliWK",
        "colab_type": "code",
        "colab": {}
      },
      "source": [
        "image = cv2.imread('./SCRATCH-1_936S185526_1_1_A.bmp')\n",
        "image = cv2.resize(image,(256,256))\n",
        "model.eval() # change model to evaluation mode\n",
        "image_tensor = transforms.ToTensor()(image)\n",
        "prediction = model(image_tensor[None,...])"
      ],
      "execution_count": 0,
      "outputs": []
    },
    {
      "cell_type": "code",
      "metadata": {
        "id": "AgQsT5jQlijn",
        "colab_type": "code",
        "outputId": "ff69bbf4-32f9-4122-e488-ca1250939574",
        "colab": {
          "base_uri": "https://localhost:8080/",
          "height": 105
        }
      },
      "source": [
        "label_index = torch.argmax(prediction[0])\n",
        "probality = torch.nn.functional.softmax(prediction[0])[label_index]\n",
        "label_name = list(dataset.mapping_label.keys())[label_index]\n",
        "print('label: {} probality: {}'.format(label_name,probality))\n",
        "print('Result: {}'.format(prediction.shape))"
      ],
      "execution_count": 0,
      "outputs": [
        {
          "output_type": "stream",
          "text": [
            "label: SCRATCH probality: 0.9997910857200623\n",
            "Result: torch.Size([1, 3])\n"
          ],
          "name": "stdout"
        },
        {
          "output_type": "stream",
          "text": [
            "/usr/local/lib/python3.6/dist-packages/ipykernel_launcher.py:2: UserWarning: Implicit dimension choice for softmax has been deprecated. Change the call to include dim=X as an argument.\n",
            "  \n"
          ],
          "name": "stderr"
        }
      ]
    },
    {
      "cell_type": "code",
      "metadata": {
        "id": "xlAGe5R3lkWd",
        "colab_type": "code",
        "colab": {}
      },
      "source": [
        "image = cv2.imread('./WHOLE-SURFACE_938T009004_1_1_B.bmp')\n",
        "image = cv2.resize(image,(256,256))\n",
        "model.eval() # change model to evaluation mode\n",
        "image_tensor = transforms.ToTensor()(image)\n",
        "prediction = model(image_tensor[None,...])"
      ],
      "execution_count": 0,
      "outputs": []
    },
    {
      "cell_type": "code",
      "metadata": {
        "id": "lggSubsY3bcH",
        "colab_type": "code",
        "colab": {}
      },
      "source": [
        ""
      ],
      "execution_count": 0,
      "outputs": []
    },
    {
      "cell_type": "code",
      "metadata": {
        "id": "p3mDGMo4lkax",
        "colab_type": "code",
        "outputId": "482a4c38-70eb-4614-ab78-ca1bc68ed857",
        "colab": {
          "base_uri": "https://localhost:8080/",
          "height": 105
        }
      },
      "source": [
        "label_index = torch.argmax(prediction[0])\n",
        "probality = torch.nn.functional.softmax(prediction[0])[label_index]\n",
        "label_name = list(dataset.mapping_label.keys())[label_index]\n",
        "print('label: {} probality: {}'.format(label_name,probality))\n",
        "print('Result: {}'.format(prediction.shape))"
      ],
      "execution_count": 0,
      "outputs": [
        {
          "output_type": "stream",
          "text": [
            "label: WHOLE-SURFACE probality: 0.9995644688606262\n",
            "Result: torch.Size([1, 3])\n"
          ],
          "name": "stdout"
        },
        {
          "output_type": "stream",
          "text": [
            "/usr/local/lib/python3.6/dist-packages/ipykernel_launcher.py:2: UserWarning: Implicit dimension choice for softmax has been deprecated. Change the call to include dim=X as an argument.\n",
            "  \n"
          ],
          "name": "stderr"
        }
      ]
    }
  ]
}